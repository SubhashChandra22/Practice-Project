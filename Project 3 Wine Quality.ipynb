{
 "cells": [
  {
   "cell_type": "markdown",
   "metadata": {},
   "source": [
    "# Wine Quality Classification"
   ]
  },
  {
   "cell_type": "markdown",
   "metadata": {},
   "source": [
    "# Context\n"
   ]
  },
  {
   "cell_type": "markdown",
   "metadata": {},
   "source": [
    "The dataset is related to red and white variants of the Portuguese \"Vinho Verde\" wine. Due to privacy and logistic issues, only physicochemical (inputs) and sensory (the output) variables are available (e.g. there is no data about grape types, wine brand, wine selling price, etc.).\n"
   ]
  },
  {
   "cell_type": "markdown",
   "metadata": {},
   "source": [
    "# Attribute Information"
   ]
  },
  {
   "cell_type": "markdown",
   "metadata": {},
   "source": [
    "Input variables (based on physicochemical tests):\n",
    "    \n",
    "1 - fixed acidity\n",
    "\n",
    "2 - volatile acidity\n",
    "\n",
    "3 - citric acid\n",
    "\n",
    "4 - residual sugar\n",
    "\n",
    "5 - chlorides\n",
    "\n",
    "6 - free sulfur dioxide\n",
    "\n",
    "7 - total sulfur dioxide\n",
    "\n",
    "8 - density\n",
    "\n",
    "9 - pH\n",
    "\n",
    "10 - sulphates\n",
    "\n",
    "11 - alcohol\n",
    "\n",
    "Output variable (based on sensory data):\n",
    "\n",
    "12 - quality (score between 0 and 10)"
   ]
  },
  {
   "cell_type": "markdown",
   "metadata": {},
   "source": [
    "# Objective"
   ]
  },
  {
   "cell_type": "markdown",
   "metadata": {},
   "source": [
    "Use machine learning to determine which physiochemical properties make a wine 'good'!"
   ]
  },
  {
   "cell_type": "markdown",
   "metadata": {},
   "source": [
    "# Importing Important Library"
   ]
  },
  {
   "cell_type": "code",
   "execution_count": 1,
   "metadata": {},
   "outputs": [],
   "source": [
    "import pandas as pd\n",
    "import numpy as np\n",
    "import seaborn as sns\n",
    "import matplotlib.pyplot as plt\n",
    "import warnings\n",
    "warnings.filterwarnings('ignore')"
   ]
  },
  {
   "cell_type": "code",
   "execution_count": 2,
   "metadata": {},
   "outputs": [],
   "source": [
    "## Loading the dataset\n",
    "df=pd.read_csv('winequality.csv')"
   ]
  },
  {
   "cell_type": "code",
   "execution_count": 3,
   "metadata": {},
   "outputs": [
    {
     "data": {
      "text/html": [
       "<div>\n",
       "<style scoped>\n",
       "    .dataframe tbody tr th:only-of-type {\n",
       "        vertical-align: middle;\n",
       "    }\n",
       "\n",
       "    .dataframe tbody tr th {\n",
       "        vertical-align: top;\n",
       "    }\n",
       "\n",
       "    .dataframe thead th {\n",
       "        text-align: right;\n",
       "    }\n",
       "</style>\n",
       "<table border=\"1\" class=\"dataframe\">\n",
       "  <thead>\n",
       "    <tr style=\"text-align: right;\">\n",
       "      <th></th>\n",
       "      <th>fixed acidity</th>\n",
       "      <th>volatile acidity</th>\n",
       "      <th>citric acid</th>\n",
       "      <th>residual sugar</th>\n",
       "      <th>chlorides</th>\n",
       "      <th>free sulfur dioxide</th>\n",
       "      <th>total sulfur dioxide</th>\n",
       "      <th>density</th>\n",
       "      <th>pH</th>\n",
       "      <th>sulphates</th>\n",
       "      <th>alcohol</th>\n",
       "      <th>quality</th>\n",
       "    </tr>\n",
       "  </thead>\n",
       "  <tbody>\n",
       "    <tr>\n",
       "      <th>0</th>\n",
       "      <td>7.4</td>\n",
       "      <td>0.70</td>\n",
       "      <td>0.00</td>\n",
       "      <td>1.9</td>\n",
       "      <td>0.076</td>\n",
       "      <td>11.0</td>\n",
       "      <td>34.0</td>\n",
       "      <td>0.9978</td>\n",
       "      <td>3.51</td>\n",
       "      <td>0.56</td>\n",
       "      <td>9.4</td>\n",
       "      <td>5</td>\n",
       "    </tr>\n",
       "    <tr>\n",
       "      <th>1</th>\n",
       "      <td>7.8</td>\n",
       "      <td>0.88</td>\n",
       "      <td>0.00</td>\n",
       "      <td>2.6</td>\n",
       "      <td>0.098</td>\n",
       "      <td>25.0</td>\n",
       "      <td>67.0</td>\n",
       "      <td>0.9968</td>\n",
       "      <td>3.20</td>\n",
       "      <td>0.68</td>\n",
       "      <td>9.8</td>\n",
       "      <td>5</td>\n",
       "    </tr>\n",
       "    <tr>\n",
       "      <th>2</th>\n",
       "      <td>7.8</td>\n",
       "      <td>0.76</td>\n",
       "      <td>0.04</td>\n",
       "      <td>2.3</td>\n",
       "      <td>0.092</td>\n",
       "      <td>15.0</td>\n",
       "      <td>54.0</td>\n",
       "      <td>0.9970</td>\n",
       "      <td>3.26</td>\n",
       "      <td>0.65</td>\n",
       "      <td>9.8</td>\n",
       "      <td>5</td>\n",
       "    </tr>\n",
       "    <tr>\n",
       "      <th>3</th>\n",
       "      <td>11.2</td>\n",
       "      <td>0.28</td>\n",
       "      <td>0.56</td>\n",
       "      <td>1.9</td>\n",
       "      <td>0.075</td>\n",
       "      <td>17.0</td>\n",
       "      <td>60.0</td>\n",
       "      <td>0.9980</td>\n",
       "      <td>3.16</td>\n",
       "      <td>0.58</td>\n",
       "      <td>9.8</td>\n",
       "      <td>6</td>\n",
       "    </tr>\n",
       "    <tr>\n",
       "      <th>4</th>\n",
       "      <td>7.4</td>\n",
       "      <td>0.70</td>\n",
       "      <td>0.00</td>\n",
       "      <td>1.9</td>\n",
       "      <td>0.076</td>\n",
       "      <td>11.0</td>\n",
       "      <td>34.0</td>\n",
       "      <td>0.9978</td>\n",
       "      <td>3.51</td>\n",
       "      <td>0.56</td>\n",
       "      <td>9.4</td>\n",
       "      <td>5</td>\n",
       "    </tr>\n",
       "  </tbody>\n",
       "</table>\n",
       "</div>"
      ],
      "text/plain": [
       "   fixed acidity  volatile acidity  citric acid  residual sugar  chlorides  \\\n",
       "0            7.4              0.70         0.00             1.9      0.076   \n",
       "1            7.8              0.88         0.00             2.6      0.098   \n",
       "2            7.8              0.76         0.04             2.3      0.092   \n",
       "3           11.2              0.28         0.56             1.9      0.075   \n",
       "4            7.4              0.70         0.00             1.9      0.076   \n",
       "\n",
       "   free sulfur dioxide  total sulfur dioxide  density    pH  sulphates  \\\n",
       "0                 11.0                  34.0   0.9978  3.51       0.56   \n",
       "1                 25.0                  67.0   0.9968  3.20       0.68   \n",
       "2                 15.0                  54.0   0.9970  3.26       0.65   \n",
       "3                 17.0                  60.0   0.9980  3.16       0.58   \n",
       "4                 11.0                  34.0   0.9978  3.51       0.56   \n",
       "\n",
       "   alcohol  quality  \n",
       "0      9.4        5  \n",
       "1      9.8        5  \n",
       "2      9.8        5  \n",
       "3      9.8        6  \n",
       "4      9.4        5  "
      ]
     },
     "execution_count": 3,
     "metadata": {},
     "output_type": "execute_result"
    }
   ],
   "source": [
    "df.head()"
   ]
  },
  {
   "cell_type": "code",
   "execution_count": 4,
   "metadata": {},
   "outputs": [
    {
     "data": {
      "text/plain": [
       "(1599, 12)"
      ]
     },
     "execution_count": 4,
     "metadata": {},
     "output_type": "execute_result"
    }
   ],
   "source": [
    "## Check shape of dataset\n",
    "df.shape"
   ]
  },
  {
   "cell_type": "markdown",
   "metadata": {},
   "source": [
    "1- We have 1599 rows and 12 columns including Target column(Quality)"
   ]
  },
  {
   "cell_type": "code",
   "execution_count": 5,
   "metadata": {},
   "outputs": [
    {
     "data": {
      "text/plain": [
       "fixed acidity           float64\n",
       "volatile acidity        float64\n",
       "citric acid             float64\n",
       "residual sugar          float64\n",
       "chlorides               float64\n",
       "free sulfur dioxide     float64\n",
       "total sulfur dioxide    float64\n",
       "density                 float64\n",
       "pH                      float64\n",
       "sulphates               float64\n",
       "alcohol                 float64\n",
       "quality                   int64\n",
       "dtype: object"
      ]
     },
     "execution_count": 5,
     "metadata": {},
     "output_type": "execute_result"
    }
   ],
   "source": [
    "## Check datatype\n",
    "df.dtypes"
   ]
  },
  {
   "cell_type": "markdown",
   "metadata": {},
   "source": [
    "1- All features have a correct datatype. All ok"
   ]
  },
  {
   "cell_type": "code",
   "execution_count": 6,
   "metadata": {},
   "outputs": [
    {
     "name": "stdout",
     "output_type": "stream",
     "text": [
      "<class 'pandas.core.frame.DataFrame'>\n",
      "RangeIndex: 1599 entries, 0 to 1598\n",
      "Data columns (total 12 columns):\n",
      " #   Column                Non-Null Count  Dtype  \n",
      "---  ------                --------------  -----  \n",
      " 0   fixed acidity         1599 non-null   float64\n",
      " 1   volatile acidity      1599 non-null   float64\n",
      " 2   citric acid           1599 non-null   float64\n",
      " 3   residual sugar        1599 non-null   float64\n",
      " 4   chlorides             1599 non-null   float64\n",
      " 5   free sulfur dioxide   1599 non-null   float64\n",
      " 6   total sulfur dioxide  1599 non-null   float64\n",
      " 7   density               1599 non-null   float64\n",
      " 8   pH                    1599 non-null   float64\n",
      " 9   sulphates             1599 non-null   float64\n",
      " 10  alcohol               1599 non-null   float64\n",
      " 11  quality               1599 non-null   int64  \n",
      "dtypes: float64(11), int64(1)\n",
      "memory usage: 150.0 KB\n"
     ]
    }
   ],
   "source": [
    "## Getting Info of dataset\n",
    "df.info()"
   ]
  },
  {
   "cell_type": "markdown",
   "metadata": {},
   "source": [
    "1- There is no null value present in our dataset."
   ]
  },
  {
   "cell_type": "code",
   "execution_count": 7,
   "metadata": {},
   "outputs": [
    {
     "data": {
      "text/plain": [
       "fixed acidity           0\n",
       "volatile acidity        0\n",
       "citric acid             0\n",
       "residual sugar          0\n",
       "chlorides               0\n",
       "free sulfur dioxide     0\n",
       "total sulfur dioxide    0\n",
       "density                 0\n",
       "pH                      0\n",
       "sulphates               0\n",
       "alcohol                 0\n",
       "quality                 0\n",
       "dtype: int64"
      ]
     },
     "execution_count": 7,
     "metadata": {},
     "output_type": "execute_result"
    }
   ],
   "source": [
    "## Checking null values\n",
    "df.isnull().sum()"
   ]
  },
  {
   "cell_type": "code",
   "execution_count": 8,
   "metadata": {},
   "outputs": [
    {
     "data": {
      "image/png": "[encoded data removed]",
      "text/plain": [
       "<Figure size 864x576 with 2 Axes>"
      ]
     },
     "metadata": {
      "needs_background": "light"
     },
     "output_type": "display_data"
    }
   ],
   "source": [
    "plt.figure(figsize=(12,8))\n",
    "plt.title('Null value Visualization',fontsize=15)\n",
    "sns.heatmap(df.isnull())\n",
    "plt.show()"
   ]
  },
  {
   "cell_type": "markdown",
   "metadata": {},
   "source": [
    "1- There is no null values in our dataset."
   ]
  },
  {
   "cell_type": "code",
   "execution_count": 9,
   "metadata": {},
   "outputs": [
    {
     "data": {
      "text/html": [
       "<div>\n",
       "<style scoped>\n",
       "    .dataframe tbody tr th:only-of-type {\n",
       "        vertical-align: middle;\n",
       "    }\n",
       "\n",
       "    .dataframe tbody tr th {\n",
       "        vertical-align: top;\n",
       "    }\n",
       "\n",
       "    .dataframe thead th {\n",
       "        text-align: right;\n",
       "    }\n",
       "</style>\n",
       "<table border=\"1\" class=\"dataframe\">\n",
       "  <thead>\n",
       "    <tr style=\"text-align: right;\">\n",
       "      <th></th>\n",
       "      <th>fixed acidity</th>\n",
       "      <th>volatile acidity</th>\n",
       "      <th>citric acid</th>\n",
       "      <th>residual sugar</th>\n",
       "      <th>chlorides</th>\n",
       "      <th>free sulfur dioxide</th>\n",
       "      <th>total sulfur dioxide</th>\n",
       "      <th>density</th>\n",
       "      <th>pH</th>\n",
       "      <th>sulphates</th>\n",
       "      <th>alcohol</th>\n",
       "      <th>quality</th>\n",
       "    </tr>\n",
       "  </thead>\n",
       "  <tbody>\n",
       "    <tr>\n",
       "      <th>count</th>\n",
       "      <td>1599.000000</td>\n",
       "      <td>1599.000000</td>\n",
       "      <td>1599.000000</td>\n",
       "      <td>1599.000000</td>\n",
       "      <td>1599.000000</td>\n",
       "      <td>1599.000000</td>\n",
       "      <td>1599.000000</td>\n",
       "      <td>1599.000000</td>\n",
       "      <td>1599.000000</td>\n",
       "      <td>1599.000000</td>\n",
       "      <td>1599.000000</td>\n",
       "      <td>1599.000000</td>\n",
       "    </tr>\n",
       "    <tr>\n",
       "      <th>mean</th>\n",
       "      <td>8.319637</td>\n",
       "      <td>0.527821</td>\n",
       "      <td>0.270976</td>\n",
       "      <td>2.538806</td>\n",
       "      <td>0.087467</td>\n",
       "      <td>15.874922</td>\n",
       "      <td>46.467792</td>\n",
       "      <td>0.996747</td>\n",
       "      <td>3.311113</td>\n",
       "      <td>0.658149</td>\n",
       "      <td>10.422983</td>\n",
       "      <td>5.636023</td>\n",
       "    </tr>\n",
       "    <tr>\n",
       "      <th>std</th>\n",
       "      <td>1.741096</td>\n",
       "      <td>0.179060</td>\n",
       "      <td>0.194801</td>\n",
       "      <td>1.409928</td>\n",
       "      <td>0.047065</td>\n",
       "      <td>10.460157</td>\n",
       "      <td>32.895324</td>\n",
       "      <td>0.001887</td>\n",
       "      <td>0.154386</td>\n",
       "      <td>0.169507</td>\n",
       "      <td>1.065668</td>\n",
       "      <td>0.807569</td>\n",
       "    </tr>\n",
       "    <tr>\n",
       "      <th>min</th>\n",
       "      <td>4.600000</td>\n",
       "      <td>0.120000</td>\n",
       "      <td>0.000000</td>\n",
       "      <td>0.900000</td>\n",
       "      <td>0.012000</td>\n",
       "      <td>1.000000</td>\n",
       "      <td>6.000000</td>\n",
       "      <td>0.990070</td>\n",
       "      <td>2.740000</td>\n",
       "      <td>0.330000</td>\n",
       "      <td>8.400000</td>\n",
       "      <td>3.000000</td>\n",
       "    </tr>\n",
       "    <tr>\n",
       "      <th>25%</th>\n",
       "      <td>7.100000</td>\n",
       "      <td>0.390000</td>\n",
       "      <td>0.090000</td>\n",
       "      <td>1.900000</td>\n",
       "      <td>0.070000</td>\n",
       "      <td>7.000000</td>\n",
       "      <td>22.000000</td>\n",
       "      <td>0.995600</td>\n",
       "      <td>3.210000</td>\n",
       "      <td>0.550000</td>\n",
       "      <td>9.500000</td>\n",
       "      <td>5.000000</td>\n",
       "    </tr>\n",
       "    <tr>\n",
       "      <th>50%</th>\n",
       "      <td>7.900000</td>\n",
       "      <td>0.520000</td>\n",
       "      <td>0.260000</td>\n",
       "      <td>2.200000</td>\n",
       "      <td>0.079000</td>\n",
       "      <td>14.000000</td>\n",
       "      <td>38.000000</td>\n",
       "      <td>0.996750</td>\n",
       "      <td>3.310000</td>\n",
       "      <td>0.620000</td>\n",
       "      <td>10.200000</td>\n",
       "      <td>6.000000</td>\n",
       "    </tr>\n",
       "    <tr>\n",
       "      <th>75%</th>\n",
       "      <td>9.200000</td>\n",
       "      <td>0.640000</td>\n",
       "      <td>0.420000</td>\n",
       "      <td>2.600000</td>\n",
       "      <td>0.090000</td>\n",
       "      <td>21.000000</td>\n",
       "      <td>62.000000</td>\n",
       "      <td>0.997835</td>\n",
       "      <td>3.400000</td>\n",
       "      <td>0.730000</td>\n",
       "      <td>11.100000</td>\n",
       "      <td>6.000000</td>\n",
       "    </tr>\n",
       "    <tr>\n",
       "      <th>max</th>\n",
       "      <td>15.900000</td>\n",
       "      <td>1.580000</td>\n",
       "      <td>1.000000</td>\n",
       "      <td>15.500000</td>\n",
       "      <td>0.611000</td>\n",
       "      <td>72.000000</td>\n",
       "      <td>289.000000</td>\n",
       "      <td>1.003690</td>\n",
       "      <td>4.010000</td>\n",
       "      <td>2.000000</td>\n",
       "      <td>14.900000</td>\n",
       "      <td>8.000000</td>\n",
       "    </tr>\n",
       "  </tbody>\n",
       "</table>\n",
       "</div>"
      ],
      "text/plain": [
       "       fixed acidity  volatile acidity  citric acid  residual sugar  \\\n",
       "count    1599.000000       1599.000000  1599.000000     1599.000000   \n",
       "mean        8.319637          0.527821     0.270976        2.538806   \n",
       "std         1.741096          0.179060     0.194801        1.409928   \n",
       "min         4.600000          0.120000     0.000000        0.900000   \n",
       "25%         7.100000          0.390000     0.090000        1.900000   \n",
       "50%         7.900000          0.520000     0.260000        2.200000   \n",
       "75%         9.200000          0.640000     0.420000        2.600000   \n",
       "max        15.900000          1.580000     1.000000       15.500000   \n",
       "\n",
       "         chlorides  free sulfur dioxide  total sulfur dioxide      density  \\\n",
       "count  1599.000000          1599.000000           1599.000000  1599.000000   \n",
       "mean      0.087467            15.874922             46.467792     0.996747   \n",
       "std       0.047065            10.460157             32.895324     0.001887   \n",
       "min       0.012000             1.000000              6.000000     0.990070   \n",
       "25%       0.070000             7.000000             22.000000     0.995600   \n",
       "50%       0.079000            14.000000             38.000000     0.996750   \n",
       "75%       0.090000            21.000000             62.000000     0.997835   \n",
       "max       0.611000            72.000000            289.000000     1.003690   \n",
       "\n",
       "                pH    sulphates      alcohol      quality  \n",
       "count  1599.000000  1599.000000  1599.000000  1599.000000  \n",
       "mean      3.311113     0.658149    10.422983     5.636023  \n",
       "std       0.154386     0.169507     1.065668     0.807569  \n",
       "min       2.740000     0.330000     8.400000     3.000000  \n",
       "25%       3.210000     0.550000     9.500000     5.000000  \n",
       "50%       3.310000     0.620000    10.200000     6.000000  \n",
       "75%       3.400000     0.730000    11.100000     6.000000  \n",
       "max       4.010000     2.000000    14.900000     8.000000  "
      ]
     },
     "execution_count": 9,
     "metadata": {},
     "output_type": "execute_result"
    }
   ],
   "source": [
    "## Getting Statistical Summary\n",
    "df.describe()"
   ]
  },
  {
   "cell_type": "markdown",
   "metadata": {},
   "source": [
    "Observation\n",
    "\n",
    "1-Outliers prensent in total sulfur dioxide.\n",
    "\n",
    "2-Shows all featurs are appoximatly Normal Distributed except sulfur dioxide."
   ]
  },
  {
   "cell_type": "code",
   "execution_count": 10,
   "metadata": {},
   "outputs": [
    {
     "data": {
      "text/plain": [
       "<AxesSubplot:title={'center':'Correlation Heatmap'}>"
      ]
     },
     "execution_count": 10,
     "metadata": {},
     "output_type": "execute_result"
    },
    {
     "data": {
      "image/png": "[encoded data removed]",
      "text/plain": [
       "<Figure size 864x576 with 2 Axes>"
      ]
     },
     "metadata": {
      "needs_background": "light"
     },
     "output_type": "display_data"
    }
   ],
   "source": [
    "plt.figure(figsize=(12,8))\n",
    "plt.title('Correlation Heatmap',fontsize=15)\n",
    "sns.heatmap(df.corr(),annot=True,cmap='RdYlBu_r')"
   ]
  },
  {
   "cell_type": "markdown",
   "metadata": {},
   "source": [
    "# Checking Distribution"
   ]
  },
  {
   "cell_type": "code",
   "execution_count": 11,
   "metadata": {},
   "outputs": [
    {
     "data": {
      "image/png": "[encoded data removed]",
      "text/plain": [
       "<Figure size 1080x1008 with 10 Axes>"
      ]
     },
     "metadata": {
      "needs_background": "light"
     },
     "output_type": "display_data"
    }
   ],
   "source": [
    "## Distribution of Each Continuous Attribute\n",
    "plt.figure(figsize=(15,14))\n",
    "plot=1\n",
    "for i in df:\n",
    "    if plot<=10:\n",
    "        plt.subplot(4,3,plot)\n",
    "        sns.distplot(df[i])\n",
    "        plt.xlabel(i)\n",
    "    plot=plot+1\n",
    "plt.show()        "
   ]
  },
  {
   "cell_type": "markdown",
   "metadata": {},
   "source": [
    "# Checking Outliers"
   ]
  },
  {
   "cell_type": "code",
   "execution_count": 12,
   "metadata": {},
   "outputs": [
    {
     "data": {
      "image/png": "[encoded data removed]",
      "text/plain": [
       "<Figure size 1080x1008 with 12 Axes>"
      ]
     },
     "metadata": {
      "needs_background": "light"
     },
     "output_type": "display_data"
    }
   ],
   "source": [
    "## Distribution of Each Continuous Attribute ## Select only float data types\n",
    "plt.figure(figsize=(15,14))\n",
    "plot=1\n",
    "for i in df:\n",
    "    if plot<=12:\n",
    "        plt.subplot(4,3,plot)\n",
    "        sns.boxplot(df[i])\n",
    "        plt.xlabel(i)\n",
    "    plot=plot+1\n",
    "plt.show()        "
   ]
  },
  {
   "cell_type": "code",
   "execution_count": 13,
   "metadata": {},
   "outputs": [
    {
     "name": "stdout",
     "output_type": "stream",
     "text": [
      "(1599, 12)\n",
      "(1518, 12)\n"
     ]
    }
   ],
   "source": [
    "from scipy.stats import zscore\n",
    "z_score=zscore(df)\n",
    "print(df.shape)\n",
    "df_1=df.loc[(z_score<3.5).all(axis=1)]\n",
    "print(df_1.shape)"
   ]
  },
  {
   "cell_type": "code",
   "execution_count": 14,
   "metadata": {},
   "outputs": [
    {
     "data": {
      "image/png": "[encoded data removed]",
      "text/plain": [
       "<Figure size 1080x1008 with 12 Axes>"
      ]
     },
     "metadata": {
      "needs_background": "light"
     },
     "output_type": "display_data"
    }
   ],
   "source": [
    "## Alter removal of  very distinct datapoints\n",
    "plt.figure(figsize=(15,14))\n",
    "plot=1\n",
    "for i in df_1:\n",
    "    if plot<=12:\n",
    "        plt.subplot(4,3,plot)\n",
    "        sns.boxplot(df_1[i])\n",
    "        plt.xlabel(i)\n",
    "    plot=plot+1\n",
    "plt.show() "
   ]
  },
  {
   "cell_type": "markdown",
   "metadata": {},
   "source": [
    "# Skewness"
   ]
  },
  {
   "cell_type": "code",
   "execution_count": 15,
   "metadata": {},
   "outputs": [
    {
     "data": {
      "text/plain": [
       "fixed acidity           0.838429\n",
       "volatile acidity        0.444226\n",
       "citric acid             0.299264\n",
       "residual sugar          2.452040\n",
       "chlorides               2.635851\n",
       "free sulfur dioxide     0.989073\n",
       "total sulfur dioxide    1.198312\n",
       "density                -0.078641\n",
       "pH                      0.153646\n",
       "sulphates               1.012281\n",
       "alcohol                 0.833944\n",
       "quality                 0.264507\n",
       "dtype: float64"
      ]
     },
     "execution_count": 15,
     "metadata": {},
     "output_type": "execute_result"
    }
   ],
   "source": [
    "df_1.skew()"
   ]
  },
  {
   "cell_type": "code",
   "execution_count": 16,
   "metadata": {},
   "outputs": [],
   "source": [
    "## If skewness must be -.5<skew<.5\n",
    "for col in df_1:\n",
    "    if df_1[col].skew()>=.5:\n",
    "        df_1[col]=np.cbrt(df_1[col])"
   ]
  },
  {
   "cell_type": "code",
   "execution_count": 17,
   "metadata": {},
   "outputs": [
    {
     "data": {
      "text/plain": [
       "fixed acidity           0.513421\n",
       "volatile acidity        0.444226\n",
       "citric acid             0.299264\n",
       "residual sugar          1.624731\n",
       "chlorides               1.064674\n",
       "free sulfur dioxide     0.175154\n",
       "total sulfur dioxide    0.353578\n",
       "density                -0.078641\n",
       "pH                      0.153646\n",
       "sulphates               0.594450\n",
       "alcohol                 0.704530\n",
       "quality                 0.264507\n",
       "dtype: float64"
      ]
     },
     "execution_count": 17,
     "metadata": {},
     "output_type": "execute_result"
    }
   ],
   "source": [
    "## Skewness Removed\n",
    "df_1.skew()"
   ]
  },
  {
   "cell_type": "code",
   "execution_count": 18,
   "metadata": {},
   "outputs": [
    {
     "data": {
      "text/plain": [
       "array([5, 6, 7, 4, 8, 3], dtype=int64)"
      ]
     },
     "execution_count": 18,
     "metadata": {},
     "output_type": "execute_result"
    }
   ],
   "source": [
    "## Checking unique values in Target column\n",
    "df['quality'].unique()"
   ]
  },
  {
   "cell_type": "code",
   "execution_count": 19,
   "metadata": {},
   "outputs": [
    {
     "data": {
      "text/html": [
       "<div>\n",
       "<style scoped>\n",
       "    .dataframe tbody tr th:only-of-type {\n",
       "        vertical-align: middle;\n",
       "    }\n",
       "\n",
       "    .dataframe tbody tr th {\n",
       "        vertical-align: top;\n",
       "    }\n",
       "\n",
       "    .dataframe thead th {\n",
       "        text-align: right;\n",
       "    }\n",
       "</style>\n",
       "<table border=\"1\" class=\"dataframe\">\n",
       "  <thead>\n",
       "    <tr style=\"text-align: right;\">\n",
       "      <th></th>\n",
       "      <th>fixed acidity</th>\n",
       "      <th>volatile acidity</th>\n",
       "      <th>citric acid</th>\n",
       "      <th>residual sugar</th>\n",
       "      <th>chlorides</th>\n",
       "      <th>free sulfur dioxide</th>\n",
       "      <th>total sulfur dioxide</th>\n",
       "      <th>density</th>\n",
       "      <th>pH</th>\n",
       "      <th>sulphates</th>\n",
       "      <th>alcohol</th>\n",
       "      <th>quality</th>\n",
       "    </tr>\n",
       "  </thead>\n",
       "  <tbody>\n",
       "    <tr>\n",
       "      <th>0</th>\n",
       "      <td>1.948695</td>\n",
       "      <td>0.70</td>\n",
       "      <td>0.00</td>\n",
       "      <td>1.238562</td>\n",
       "      <td>0.423582</td>\n",
       "      <td>2.223980</td>\n",
       "      <td>3.239612</td>\n",
       "      <td>0.9978</td>\n",
       "      <td>3.51</td>\n",
       "      <td>0.824257</td>\n",
       "      <td>2.110454</td>\n",
       "      <td>Bad</td>\n",
       "    </tr>\n",
       "    <tr>\n",
       "      <th>1</th>\n",
       "      <td>1.983192</td>\n",
       "      <td>0.88</td>\n",
       "      <td>0.00</td>\n",
       "      <td>1.375069</td>\n",
       "      <td>0.461044</td>\n",
       "      <td>2.924018</td>\n",
       "      <td>4.061548</td>\n",
       "      <td>0.9968</td>\n",
       "      <td>3.20</td>\n",
       "      <td>0.879366</td>\n",
       "      <td>2.139975</td>\n",
       "      <td>Bad</td>\n",
       "    </tr>\n",
       "    <tr>\n",
       "      <th>2</th>\n",
       "      <td>1.983192</td>\n",
       "      <td>0.76</td>\n",
       "      <td>0.04</td>\n",
       "      <td>1.320006</td>\n",
       "      <td>0.451436</td>\n",
       "      <td>2.466212</td>\n",
       "      <td>3.779763</td>\n",
       "      <td>0.9970</td>\n",
       "      <td>3.26</td>\n",
       "      <td>0.866239</td>\n",
       "      <td>2.139975</td>\n",
       "      <td>Bad</td>\n",
       "    </tr>\n",
       "    <tr>\n",
       "      <th>3</th>\n",
       "      <td>2.237378</td>\n",
       "      <td>0.28</td>\n",
       "      <td>0.56</td>\n",
       "      <td>1.238562</td>\n",
       "      <td>0.421716</td>\n",
       "      <td>2.571282</td>\n",
       "      <td>3.914868</td>\n",
       "      <td>0.9980</td>\n",
       "      <td>3.16</td>\n",
       "      <td>0.833955</td>\n",
       "      <td>2.139975</td>\n",
       "      <td>Bad</td>\n",
       "    </tr>\n",
       "    <tr>\n",
       "      <th>4</th>\n",
       "      <td>1.948695</td>\n",
       "      <td>0.70</td>\n",
       "      <td>0.00</td>\n",
       "      <td>1.238562</td>\n",
       "      <td>0.423582</td>\n",
       "      <td>2.223980</td>\n",
       "      <td>3.239612</td>\n",
       "      <td>0.9978</td>\n",
       "      <td>3.51</td>\n",
       "      <td>0.824257</td>\n",
       "      <td>2.110454</td>\n",
       "      <td>Bad</td>\n",
       "    </tr>\n",
       "  </tbody>\n",
       "</table>\n",
       "</div>"
      ],
      "text/plain": [
       "   fixed acidity  volatile acidity  citric acid  residual sugar  chlorides  \\\n",
       "0       1.948695              0.70         0.00        1.238562   0.423582   \n",
       "1       1.983192              0.88         0.00        1.375069   0.461044   \n",
       "2       1.983192              0.76         0.04        1.320006   0.451436   \n",
       "3       2.237378              0.28         0.56        1.238562   0.421716   \n",
       "4       1.948695              0.70         0.00        1.238562   0.423582   \n",
       "\n",
       "   free sulfur dioxide  total sulfur dioxide  density    pH  sulphates  \\\n",
       "0             2.223980              3.239612   0.9978  3.51   0.824257   \n",
       "1             2.924018              4.061548   0.9968  3.20   0.879366   \n",
       "2             2.466212              3.779763   0.9970  3.26   0.866239   \n",
       "3             2.571282              3.914868   0.9980  3.16   0.833955   \n",
       "4             2.223980              3.239612   0.9978  3.51   0.824257   \n",
       "\n",
       "    alcohol quality  \n",
       "0  2.110454     Bad  \n",
       "1  2.139975     Bad  \n",
       "2  2.139975     Bad  \n",
       "3  2.139975     Bad  \n",
       "4  2.110454     Bad  "
      ]
     },
     "execution_count": 19,
     "metadata": {},
     "output_type": "execute_result"
    }
   ],
   "source": [
    "## Set a cutoff to convert multiclass class classification to Binary Class.\n",
    "bins=[2,6,9]\n",
    "labels=['Bad','Good']\n",
    "df_1['quality']=pd.cut(df_1['quality'],bins=bins,labels=labels)\n",
    "df_1.head()"
   ]
  },
  {
   "cell_type": "code",
   "execution_count": 20,
   "metadata": {},
   "outputs": [
    {
     "data": {
      "text/plain": [
       "Bad     1311\n",
       "Good     207\n",
       "Name: quality, dtype: int64"
      ]
     },
     "execution_count": 20,
     "metadata": {},
     "output_type": "execute_result"
    }
   ],
   "source": [
    "df_1['quality'].value_counts()"
   ]
  },
  {
   "cell_type": "code",
   "execution_count": 21,
   "metadata": {},
   "outputs": [
    {
     "data": {
      "text/plain": [
       "<AxesSubplot:title={'center':'Distribution of Target'}, xlabel='quality', ylabel='count'>"
      ]
     },
     "execution_count": 21,
     "metadata": {},
     "output_type": "execute_result"
    },
    {
     "data": {
      "image/png": "[encoded data removed]",
      "text/plain": [
       "<Figure size 864x576 with 1 Axes>"
      ]
     },
     "metadata": {
      "needs_background": "light"
     },
     "output_type": "display_data"
    }
   ],
   "source": [
    "plt.figure(figsize=(12,8))\n",
    "plt.title('Distribution of Target',fontsize=15)\n",
    "sns.countplot(df_1['quality'])"
   ]
  },
  {
   "cell_type": "markdown",
   "metadata": {},
   "source": [
    "it shows our distribution is imbalance."
   ]
  },
  {
   "cell_type": "markdown",
   "metadata": {},
   "source": [
    "# Encoding the target Variable"
   ]
  },
  {
   "cell_type": "code",
   "execution_count": 22,
   "metadata": {},
   "outputs": [],
   "source": [
    "from sklearn.preprocessing import LabelEncoder\n",
    "le=LabelEncoder()\n",
    "df_1['quality']=le.fit_transform(df_1['quality'])"
   ]
  },
  {
   "cell_type": "code",
   "execution_count": 23,
   "metadata": {},
   "outputs": [
    {
     "data": {
      "text/html": [
       "<div>\n",
       "<style scoped>\n",
       "    .dataframe tbody tr th:only-of-type {\n",
       "        vertical-align: middle;\n",
       "    }\n",
       "\n",
       "    .dataframe tbody tr th {\n",
       "        vertical-align: top;\n",
       "    }\n",
       "\n",
       "    .dataframe thead th {\n",
       "        text-align: right;\n",
       "    }\n",
       "</style>\n",
       "<table border=\"1\" class=\"dataframe\">\n",
       "  <thead>\n",
       "    <tr style=\"text-align: right;\">\n",
       "      <th></th>\n",
       "      <th>fixed acidity</th>\n",
       "      <th>volatile acidity</th>\n",
       "      <th>citric acid</th>\n",
       "      <th>residual sugar</th>\n",
       "      <th>chlorides</th>\n",
       "      <th>free sulfur dioxide</th>\n",
       "      <th>total sulfur dioxide</th>\n",
       "      <th>density</th>\n",
       "      <th>pH</th>\n",
       "      <th>sulphates</th>\n",
       "      <th>alcohol</th>\n",
       "      <th>quality</th>\n",
       "    </tr>\n",
       "  </thead>\n",
       "  <tbody>\n",
       "    <tr>\n",
       "      <th>0</th>\n",
       "      <td>1.948695</td>\n",
       "      <td>0.70</td>\n",
       "      <td>0.00</td>\n",
       "      <td>1.238562</td>\n",
       "      <td>0.423582</td>\n",
       "      <td>2.223980</td>\n",
       "      <td>3.239612</td>\n",
       "      <td>0.9978</td>\n",
       "      <td>3.51</td>\n",
       "      <td>0.824257</td>\n",
       "      <td>2.110454</td>\n",
       "      <td>0</td>\n",
       "    </tr>\n",
       "    <tr>\n",
       "      <th>1</th>\n",
       "      <td>1.983192</td>\n",
       "      <td>0.88</td>\n",
       "      <td>0.00</td>\n",
       "      <td>1.375069</td>\n",
       "      <td>0.461044</td>\n",
       "      <td>2.924018</td>\n",
       "      <td>4.061548</td>\n",
       "      <td>0.9968</td>\n",
       "      <td>3.20</td>\n",
       "      <td>0.879366</td>\n",
       "      <td>2.139975</td>\n",
       "      <td>0</td>\n",
       "    </tr>\n",
       "    <tr>\n",
       "      <th>2</th>\n",
       "      <td>1.983192</td>\n",
       "      <td>0.76</td>\n",
       "      <td>0.04</td>\n",
       "      <td>1.320006</td>\n",
       "      <td>0.451436</td>\n",
       "      <td>2.466212</td>\n",
       "      <td>3.779763</td>\n",
       "      <td>0.9970</td>\n",
       "      <td>3.26</td>\n",
       "      <td>0.866239</td>\n",
       "      <td>2.139975</td>\n",
       "      <td>0</td>\n",
       "    </tr>\n",
       "    <tr>\n",
       "      <th>3</th>\n",
       "      <td>2.237378</td>\n",
       "      <td>0.28</td>\n",
       "      <td>0.56</td>\n",
       "      <td>1.238562</td>\n",
       "      <td>0.421716</td>\n",
       "      <td>2.571282</td>\n",
       "      <td>3.914868</td>\n",
       "      <td>0.9980</td>\n",
       "      <td>3.16</td>\n",
       "      <td>0.833955</td>\n",
       "      <td>2.139975</td>\n",
       "      <td>0</td>\n",
       "    </tr>\n",
       "    <tr>\n",
       "      <th>4</th>\n",
       "      <td>1.948695</td>\n",
       "      <td>0.70</td>\n",
       "      <td>0.00</td>\n",
       "      <td>1.238562</td>\n",
       "      <td>0.423582</td>\n",
       "      <td>2.223980</td>\n",
       "      <td>3.239612</td>\n",
       "      <td>0.9978</td>\n",
       "      <td>3.51</td>\n",
       "      <td>0.824257</td>\n",
       "      <td>2.110454</td>\n",
       "      <td>0</td>\n",
       "    </tr>\n",
       "  </tbody>\n",
       "</table>\n",
       "</div>"
      ],
      "text/plain": [
       "   fixed acidity  volatile acidity  citric acid  residual sugar  chlorides  \\\n",
       "0       1.948695              0.70         0.00        1.238562   0.423582   \n",
       "1       1.983192              0.88         0.00        1.375069   0.461044   \n",
       "2       1.983192              0.76         0.04        1.320006   0.451436   \n",
       "3       2.237378              0.28         0.56        1.238562   0.421716   \n",
       "4       1.948695              0.70         0.00        1.238562   0.423582   \n",
       "\n",
       "   free sulfur dioxide  total sulfur dioxide  density    pH  sulphates  \\\n",
       "0             2.223980              3.239612   0.9978  3.51   0.824257   \n",
       "1             2.924018              4.061548   0.9968  3.20   0.879366   \n",
       "2             2.466212              3.779763   0.9970  3.26   0.866239   \n",
       "3             2.571282              3.914868   0.9980  3.16   0.833955   \n",
       "4             2.223980              3.239612   0.9978  3.51   0.824257   \n",
       "\n",
       "    alcohol  quality  \n",
       "0  2.110454        0  \n",
       "1  2.139975        0  \n",
       "2  2.139975        0  \n",
       "3  2.139975        0  \n",
       "4  2.110454        0  "
      ]
     },
     "execution_count": 23,
     "metadata": {},
     "output_type": "execute_result"
    }
   ],
   "source": [
    "df_1.head()"
   ]
  },
  {
   "cell_type": "markdown",
   "metadata": {},
   "source": [
    "# Assigning X and Y"
   ]
  },
  {
   "cell_type": "code",
   "execution_count": 24,
   "metadata": {},
   "outputs": [],
   "source": [
    "x=df_1.drop(['quality'],axis=1)\n",
    "y=df_1[['quality']]"
   ]
  },
  {
   "cell_type": "code",
   "execution_count": 25,
   "metadata": {},
   "outputs": [
    {
     "data": {
      "text/html": [
       "<div>\n",
       "<style scoped>\n",
       "    .dataframe tbody tr th:only-of-type {\n",
       "        vertical-align: middle;\n",
       "    }\n",
       "\n",
       "    .dataframe tbody tr th {\n",
       "        vertical-align: top;\n",
       "    }\n",
       "\n",
       "    .dataframe thead th {\n",
       "        text-align: right;\n",
       "    }\n",
       "</style>\n",
       "<table border=\"1\" class=\"dataframe\">\n",
       "  <thead>\n",
       "    <tr style=\"text-align: right;\">\n",
       "      <th></th>\n",
       "      <th>fixed acidity</th>\n",
       "      <th>volatile acidity</th>\n",
       "      <th>citric acid</th>\n",
       "      <th>residual sugar</th>\n",
       "      <th>chlorides</th>\n",
       "      <th>free sulfur dioxide</th>\n",
       "      <th>total sulfur dioxide</th>\n",
       "      <th>density</th>\n",
       "      <th>pH</th>\n",
       "      <th>sulphates</th>\n",
       "      <th>alcohol</th>\n",
       "    </tr>\n",
       "  </thead>\n",
       "  <tbody>\n",
       "    <tr>\n",
       "      <th>0</th>\n",
       "      <td>1.948695</td>\n",
       "      <td>0.700</td>\n",
       "      <td>0.00</td>\n",
       "      <td>1.238562</td>\n",
       "      <td>0.423582</td>\n",
       "      <td>2.223980</td>\n",
       "      <td>3.239612</td>\n",
       "      <td>0.99780</td>\n",
       "      <td>3.51</td>\n",
       "      <td>0.824257</td>\n",
       "      <td>2.110454</td>\n",
       "    </tr>\n",
       "    <tr>\n",
       "      <th>1</th>\n",
       "      <td>1.983192</td>\n",
       "      <td>0.880</td>\n",
       "      <td>0.00</td>\n",
       "      <td>1.375069</td>\n",
       "      <td>0.461044</td>\n",
       "      <td>2.924018</td>\n",
       "      <td>4.061548</td>\n",
       "      <td>0.99680</td>\n",
       "      <td>3.20</td>\n",
       "      <td>0.879366</td>\n",
       "      <td>2.139975</td>\n",
       "    </tr>\n",
       "    <tr>\n",
       "      <th>2</th>\n",
       "      <td>1.983192</td>\n",
       "      <td>0.760</td>\n",
       "      <td>0.04</td>\n",
       "      <td>1.320006</td>\n",
       "      <td>0.451436</td>\n",
       "      <td>2.466212</td>\n",
       "      <td>3.779763</td>\n",
       "      <td>0.99700</td>\n",
       "      <td>3.26</td>\n",
       "      <td>0.866239</td>\n",
       "      <td>2.139975</td>\n",
       "    </tr>\n",
       "    <tr>\n",
       "      <th>3</th>\n",
       "      <td>2.237378</td>\n",
       "      <td>0.280</td>\n",
       "      <td>0.56</td>\n",
       "      <td>1.238562</td>\n",
       "      <td>0.421716</td>\n",
       "      <td>2.571282</td>\n",
       "      <td>3.914868</td>\n",
       "      <td>0.99800</td>\n",
       "      <td>3.16</td>\n",
       "      <td>0.833955</td>\n",
       "      <td>2.139975</td>\n",
       "    </tr>\n",
       "    <tr>\n",
       "      <th>4</th>\n",
       "      <td>1.948695</td>\n",
       "      <td>0.700</td>\n",
       "      <td>0.00</td>\n",
       "      <td>1.238562</td>\n",
       "      <td>0.423582</td>\n",
       "      <td>2.223980</td>\n",
       "      <td>3.239612</td>\n",
       "      <td>0.99780</td>\n",
       "      <td>3.51</td>\n",
       "      <td>0.824257</td>\n",
       "      <td>2.110454</td>\n",
       "    </tr>\n",
       "    <tr>\n",
       "      <th>...</th>\n",
       "      <td>...</td>\n",
       "      <td>...</td>\n",
       "      <td>...</td>\n",
       "      <td>...</td>\n",
       "      <td>...</td>\n",
       "      <td>...</td>\n",
       "      <td>...</td>\n",
       "      <td>...</td>\n",
       "      <td>...</td>\n",
       "      <td>...</td>\n",
       "      <td>...</td>\n",
       "    </tr>\n",
       "    <tr>\n",
       "      <th>1594</th>\n",
       "      <td>1.837091</td>\n",
       "      <td>0.600</td>\n",
       "      <td>0.08</td>\n",
       "      <td>1.259921</td>\n",
       "      <td>0.448140</td>\n",
       "      <td>3.174802</td>\n",
       "      <td>3.530348</td>\n",
       "      <td>0.99490</td>\n",
       "      <td>3.45</td>\n",
       "      <td>0.833955</td>\n",
       "      <td>2.189760</td>\n",
       "    </tr>\n",
       "    <tr>\n",
       "      <th>1595</th>\n",
       "      <td>1.806969</td>\n",
       "      <td>0.550</td>\n",
       "      <td>0.10</td>\n",
       "      <td>1.300591</td>\n",
       "      <td>0.395789</td>\n",
       "      <td>3.391211</td>\n",
       "      <td>3.708430</td>\n",
       "      <td>0.99512</td>\n",
       "      <td>3.52</td>\n",
       "      <td>0.912581</td>\n",
       "      <td>2.237378</td>\n",
       "    </tr>\n",
       "    <tr>\n",
       "      <th>1596</th>\n",
       "      <td>1.846915</td>\n",
       "      <td>0.510</td>\n",
       "      <td>0.13</td>\n",
       "      <td>1.320006</td>\n",
       "      <td>0.423582</td>\n",
       "      <td>3.072317</td>\n",
       "      <td>3.419952</td>\n",
       "      <td>0.99574</td>\n",
       "      <td>3.42</td>\n",
       "      <td>0.908560</td>\n",
       "      <td>2.223980</td>\n",
       "    </tr>\n",
       "    <tr>\n",
       "      <th>1597</th>\n",
       "      <td>1.806969</td>\n",
       "      <td>0.645</td>\n",
       "      <td>0.12</td>\n",
       "      <td>1.259921</td>\n",
       "      <td>0.421716</td>\n",
       "      <td>3.174802</td>\n",
       "      <td>3.530348</td>\n",
       "      <td>0.99547</td>\n",
       "      <td>3.57</td>\n",
       "      <td>0.892112</td>\n",
       "      <td>2.168703</td>\n",
       "    </tr>\n",
       "    <tr>\n",
       "      <th>1598</th>\n",
       "      <td>1.817121</td>\n",
       "      <td>0.310</td>\n",
       "      <td>0.47</td>\n",
       "      <td>1.532619</td>\n",
       "      <td>0.406155</td>\n",
       "      <td>2.620741</td>\n",
       "      <td>3.476027</td>\n",
       "      <td>0.99549</td>\n",
       "      <td>3.39</td>\n",
       "      <td>0.870659</td>\n",
       "      <td>2.223980</td>\n",
       "    </tr>\n",
       "  </tbody>\n",
       "</table>\n",
       "<p>1518 rows × 11 columns</p>\n",
       "</div>"
      ],
      "text/plain": [
       "      fixed acidity  volatile acidity  citric acid  residual sugar  chlorides  \\\n",
       "0          1.948695             0.700         0.00        1.238562   0.423582   \n",
       "1          1.983192             0.880         0.00        1.375069   0.461044   \n",
       "2          1.983192             0.760         0.04        1.320006   0.451436   \n",
       "3          2.237378             0.280         0.56        1.238562   0.421716   \n",
       "4          1.948695             0.700         0.00        1.238562   0.423582   \n",
       "...             ...               ...          ...             ...        ...   \n",
       "1594       1.837091             0.600         0.08        1.259921   0.448140   \n",
       "1595       1.806969             0.550         0.10        1.300591   0.395789   \n",
       "1596       1.846915             0.510         0.13        1.320006   0.423582   \n",
       "1597       1.806969             0.645         0.12        1.259921   0.421716   \n",
       "1598       1.817121             0.310         0.47        1.532619   0.406155   \n",
       "\n",
       "      free sulfur dioxide  total sulfur dioxide  density    pH  sulphates  \\\n",
       "0                2.223980              3.239612  0.99780  3.51   0.824257   \n",
       "1                2.924018              4.061548  0.99680  3.20   0.879366   \n",
       "2                2.466212              3.779763  0.99700  3.26   0.866239   \n",
       "3                2.571282              3.914868  0.99800  3.16   0.833955   \n",
       "4                2.223980              3.239612  0.99780  3.51   0.824257   \n",
       "...                   ...                   ...      ...   ...        ...   \n",
       "1594             3.174802              3.530348  0.99490  3.45   0.833955   \n",
       "1595             3.391211              3.708430  0.99512  3.52   0.912581   \n",
       "1596             3.072317              3.419952  0.99574  3.42   0.908560   \n",
       "1597             3.174802              3.530348  0.99547  3.57   0.892112   \n",
       "1598             2.620741              3.476027  0.99549  3.39   0.870659   \n",
       "\n",
       "       alcohol  \n",
       "0     2.110454  \n",
       "1     2.139975  \n",
       "2     2.139975  \n",
       "3     2.139975  \n",
       "4     2.110454  \n",
       "...        ...  \n",
       "1594  2.189760  \n",
       "1595  2.237378  \n",
       "1596  2.223980  \n",
       "1597  2.168703  \n",
       "1598  2.223980  \n",
       "\n",
       "[1518 rows x 11 columns]"
      ]
     },
     "execution_count": 25,
     "metadata": {},
     "output_type": "execute_result"
    }
   ],
   "source": [
    "x"
   ]
  },
  {
   "cell_type": "code",
   "execution_count": 26,
   "metadata": {},
   "outputs": [
    {
     "data": {
      "text/plain": [
       "quality\n",
       "0          1311\n",
       "1           207\n",
       "dtype: int64"
      ]
     },
     "execution_count": 26,
     "metadata": {},
     "output_type": "execute_result"
    }
   ],
   "source": [
    "y.value_counts()"
   ]
  },
  {
   "cell_type": "code",
   "execution_count": 27,
   "metadata": {},
   "outputs": [
    {
     "data": {
      "text/html": [
       "<div>\n",
       "<style scoped>\n",
       "    .dataframe tbody tr th:only-of-type {\n",
       "        vertical-align: middle;\n",
       "    }\n",
       "\n",
       "    .dataframe tbody tr th {\n",
       "        vertical-align: top;\n",
       "    }\n",
       "\n",
       "    .dataframe thead th {\n",
       "        text-align: right;\n",
       "    }\n",
       "</style>\n",
       "<table border=\"1\" class=\"dataframe\">\n",
       "  <thead>\n",
       "    <tr style=\"text-align: right;\">\n",
       "      <th></th>\n",
       "      <th>fixed acidity</th>\n",
       "      <th>volatile acidity</th>\n",
       "      <th>citric acid</th>\n",
       "      <th>residual sugar</th>\n",
       "      <th>chlorides</th>\n",
       "      <th>free sulfur dioxide</th>\n",
       "      <th>total sulfur dioxide</th>\n",
       "      <th>density</th>\n",
       "      <th>pH</th>\n",
       "      <th>sulphates</th>\n",
       "      <th>alcohol</th>\n",
       "    </tr>\n",
       "  </thead>\n",
       "  <tbody>\n",
       "    <tr>\n",
       "      <th>0</th>\n",
       "      <td>-0.506616</td>\n",
       "      <td>1.008962</td>\n",
       "      <td>-1.386904</td>\n",
       "      <td>-0.609450</td>\n",
       "      <td>-0.211354</td>\n",
       "      <td>-0.303925</td>\n",
       "      <td>-0.188307</td>\n",
       "      <td>0.605782</td>\n",
       "      <td>1.329324</td>\n",
       "      <td>-0.620354</td>\n",
       "      <td>-1.006149</td>\n",
       "    </tr>\n",
       "    <tr>\n",
       "      <th>1</th>\n",
       "      <td>-0.246527</td>\n",
       "      <td>2.053594</td>\n",
       "      <td>-1.386904</td>\n",
       "      <td>0.352108</td>\n",
       "      <td>0.790531</td>\n",
       "      <td>1.034465</td>\n",
       "      <td>0.868384</td>\n",
       "      <td>0.055486</td>\n",
       "      <td>-0.802105</td>\n",
       "      <td>0.325210</td>\n",
       "      <td>-0.596604</td>\n",
       "    </tr>\n",
       "    <tr>\n",
       "      <th>2</th>\n",
       "      <td>-0.246527</td>\n",
       "      <td>1.357173</td>\n",
       "      <td>-1.177981</td>\n",
       "      <td>-0.035757</td>\n",
       "      <td>0.533572</td>\n",
       "      <td>0.159194</td>\n",
       "      <td>0.506118</td>\n",
       "      <td>0.165546</td>\n",
       "      <td>-0.389571</td>\n",
       "      <td>0.099978</td>\n",
       "      <td>-0.596604</td>\n",
       "    </tr>\n",
       "    <tr>\n",
       "      <th>3</th>\n",
       "      <td>1.669875</td>\n",
       "      <td>-1.428513</td>\n",
       "      <td>1.538023</td>\n",
       "      <td>-0.609450</td>\n",
       "      <td>-0.261260</td>\n",
       "      <td>0.360075</td>\n",
       "      <td>0.679810</td>\n",
       "      <td>0.715842</td>\n",
       "      <td>-1.077129</td>\n",
       "      <td>-0.453954</td>\n",
       "      <td>-0.596604</td>\n",
       "    </tr>\n",
       "    <tr>\n",
       "      <th>4</th>\n",
       "      <td>-0.506616</td>\n",
       "      <td>1.008962</td>\n",
       "      <td>-1.386904</td>\n",
       "      <td>-0.609450</td>\n",
       "      <td>-0.211354</td>\n",
       "      <td>-0.303925</td>\n",
       "      <td>-0.188307</td>\n",
       "      <td>0.605782</td>\n",
       "      <td>1.329324</td>\n",
       "      <td>-0.620354</td>\n",
       "      <td>-1.006149</td>\n",
       "    </tr>\n",
       "    <tr>\n",
       "      <th>...</th>\n",
       "      <td>...</td>\n",
       "      <td>...</td>\n",
       "      <td>...</td>\n",
       "      <td>...</td>\n",
       "      <td>...</td>\n",
       "      <td>...</td>\n",
       "      <td>...</td>\n",
       "      <td>...</td>\n",
       "      <td>...</td>\n",
       "      <td>...</td>\n",
       "      <td>...</td>\n",
       "    </tr>\n",
       "    <tr>\n",
       "      <th>1513</th>\n",
       "      <td>-1.348047</td>\n",
       "      <td>0.428611</td>\n",
       "      <td>-0.969058</td>\n",
       "      <td>-0.458999</td>\n",
       "      <td>0.445442</td>\n",
       "      <td>1.513936</td>\n",
       "      <td>0.185468</td>\n",
       "      <td>-0.990076</td>\n",
       "      <td>0.916789</td>\n",
       "      <td>-0.453954</td>\n",
       "      <td>0.094065</td>\n",
       "    </tr>\n",
       "    <tr>\n",
       "      <th>1514</th>\n",
       "      <td>-1.575146</td>\n",
       "      <td>0.138436</td>\n",
       "      <td>-0.864596</td>\n",
       "      <td>-0.172515</td>\n",
       "      <td>-0.954670</td>\n",
       "      <td>1.927685</td>\n",
       "      <td>0.414411</td>\n",
       "      <td>-0.869011</td>\n",
       "      <td>1.398079</td>\n",
       "      <td>0.895110</td>\n",
       "      <td>0.754681</td>\n",
       "    </tr>\n",
       "    <tr>\n",
       "      <th>1515</th>\n",
       "      <td>-1.273978</td>\n",
       "      <td>-0.093705</td>\n",
       "      <td>-0.707903</td>\n",
       "      <td>-0.035757</td>\n",
       "      <td>-0.211354</td>\n",
       "      <td>1.317996</td>\n",
       "      <td>0.043541</td>\n",
       "      <td>-0.527827</td>\n",
       "      <td>0.710522</td>\n",
       "      <td>0.826130</td>\n",
       "      <td>0.568812</td>\n",
       "    </tr>\n",
       "    <tr>\n",
       "      <th>1516</th>\n",
       "      <td>-1.575146</td>\n",
       "      <td>0.689769</td>\n",
       "      <td>-0.760134</td>\n",
       "      <td>-0.458999</td>\n",
       "      <td>-0.261260</td>\n",
       "      <td>1.513936</td>\n",
       "      <td>0.185468</td>\n",
       "      <td>-0.676407</td>\n",
       "      <td>1.741858</td>\n",
       "      <td>0.543911</td>\n",
       "      <td>-0.198057</td>\n",
       "    </tr>\n",
       "    <tr>\n",
       "      <th>1517</th>\n",
       "      <td>-1.498608</td>\n",
       "      <td>-1.254407</td>\n",
       "      <td>1.067945</td>\n",
       "      <td>1.461897</td>\n",
       "      <td>-0.677446</td>\n",
       "      <td>0.454636</td>\n",
       "      <td>0.115631</td>\n",
       "      <td>-0.665401</td>\n",
       "      <td>0.504254</td>\n",
       "      <td>0.175812</td>\n",
       "      <td>0.568812</td>\n",
       "    </tr>\n",
       "  </tbody>\n",
       "</table>\n",
       "<p>1518 rows × 11 columns</p>\n",
       "</div>"
      ],
      "text/plain": [
       "      fixed acidity  volatile acidity  citric acid  residual sugar  chlorides  \\\n",
       "0         -0.506616          1.008962    -1.386904       -0.609450  -0.211354   \n",
       "1         -0.246527          2.053594    -1.386904        0.352108   0.790531   \n",
       "2         -0.246527          1.357173    -1.177981       -0.035757   0.533572   \n",
       "3          1.669875         -1.428513     1.538023       -0.609450  -0.261260   \n",
       "4         -0.506616          1.008962    -1.386904       -0.609450  -0.211354   \n",
       "...             ...               ...          ...             ...        ...   \n",
       "1513      -1.348047          0.428611    -0.969058       -0.458999   0.445442   \n",
       "1514      -1.575146          0.138436    -0.864596       -0.172515  -0.954670   \n",
       "1515      -1.273978         -0.093705    -0.707903       -0.035757  -0.211354   \n",
       "1516      -1.575146          0.689769    -0.760134       -0.458999  -0.261260   \n",
       "1517      -1.498608         -1.254407     1.067945        1.461897  -0.677446   \n",
       "\n",
       "      free sulfur dioxide  total sulfur dioxide   density        pH  \\\n",
       "0               -0.303925             -0.188307  0.605782  1.329324   \n",
       "1                1.034465              0.868384  0.055486 -0.802105   \n",
       "2                0.159194              0.506118  0.165546 -0.389571   \n",
       "3                0.360075              0.679810  0.715842 -1.077129   \n",
       "4               -0.303925             -0.188307  0.605782  1.329324   \n",
       "...                   ...                   ...       ...       ...   \n",
       "1513             1.513936              0.185468 -0.990076  0.916789   \n",
       "1514             1.927685              0.414411 -0.869011  1.398079   \n",
       "1515             1.317996              0.043541 -0.527827  0.710522   \n",
       "1516             1.513936              0.185468 -0.676407  1.741858   \n",
       "1517             0.454636              0.115631 -0.665401  0.504254   \n",
       "\n",
       "      sulphates   alcohol  \n",
       "0     -0.620354 -1.006149  \n",
       "1      0.325210 -0.596604  \n",
       "2      0.099978 -0.596604  \n",
       "3     -0.453954 -0.596604  \n",
       "4     -0.620354 -1.006149  \n",
       "...         ...       ...  \n",
       "1513  -0.453954  0.094065  \n",
       "1514   0.895110  0.754681  \n",
       "1515   0.826130  0.568812  \n",
       "1516   0.543911 -0.198057  \n",
       "1517   0.175812  0.568812  \n",
       "\n",
       "[1518 rows x 11 columns]"
      ]
     },
     "execution_count": 27,
     "metadata": {},
     "output_type": "execute_result"
    }
   ],
   "source": [
    "from sklearn.preprocessing import StandardScaler\n",
    "ss=StandardScaler()\n",
    "x_scaled=ss.fit_transform(x)\n",
    "x_scaled=pd.DataFrame(x_scaled,columns=x.columns)\n",
    "x_scaled"
   ]
  },
  {
   "cell_type": "markdown",
   "metadata": {},
   "source": [
    "# Feature Importance"
   ]
  },
  {
   "cell_type": "code",
   "execution_count": 28,
   "metadata": {},
   "outputs": [
    {
     "name": "stdout",
     "output_type": "stream",
     "text": [
      "[0.07128764 0.10060831 0.09187941 0.0765035  0.07220218 0.06825011\n",
      " 0.08320694 0.08750424 0.06748092 0.11424353 0.16683323]\n"
     ]
    },
    {
     "data": {
      "image/png": "[encoded data removed]",
      "text/plain": [
       "<Figure size 432x288 with 1 Axes>"
      ]
     },
     "metadata": {
      "needs_background": "light"
     },
     "output_type": "display_data"
    }
   ],
   "source": [
    "from sklearn.ensemble import ExtraTreesClassifier\n",
    "mod=ExtraTreesClassifier()\n",
    "mod.fit(x,y)\n",
    "print(mod.feature_importances_)\n",
    "feat_importances=pd.Series(mod.feature_importances_,index=x.columns)\n",
    "feat_importances.nlargest(10).plot(kind='barh')\n",
    "plt.show()"
   ]
  },
  {
   "cell_type": "markdown",
   "metadata": {},
   "source": [
    "# Model Building|"
   ]
  },
  {
   "cell_type": "code",
   "execution_count": 29,
   "metadata": {},
   "outputs": [],
   "source": [
    "from sklearn.model_selection import train_test_split,cross_val_score\n",
    "from imblearn.over_sampling import SMOTE\n",
    "from sklearn.metrics import roc_auc_score,f1_score,confusion_matrix,classification_report,accuracy_score\n"
   ]
  },
  {
   "cell_type": "code",
   "execution_count": 30,
   "metadata": {},
   "outputs": [],
   "source": [
    "def max_aucroc_score(clf,x,y):\n",
    "    maxroc_auc=0\n",
    "    for i in range(42,100):\n",
    "        x_train,x_test,y_train,y_test=train_test_split(x,y,test_size=.20,random_state=i,stratify=y)\n",
    "        x_train,y_train=SMOTE().fit_resample(x_train,y_train)\n",
    "        clf.fit(x_train,y_train)\n",
    "        pred=clf.predict(x_test)\n",
    "        roc_score=roc_auc_score(y_test,pred)\n",
    "        if roc_score>maxroc_auc:\n",
    "            maxroc_auc=roc_score\n",
    "            final_r=i\n",
    "    print('max Roc_auc score corresponding to',final_r,'is',maxroc_auc)\n",
    "    return final_r\n",
    "        "
   ]
  },
  {
   "cell_type": "code",
   "execution_count": 31,
   "metadata": {},
   "outputs": [
    {
     "name": "stdout",
     "output_type": "stream",
     "text": [
      "max Roc_auc score corresponding to 47 is 0.8428544931837151\n"
     ]
    },
    {
     "data": {
      "text/plain": [
       "47"
      ]
     },
     "execution_count": 31,
     "metadata": {},
     "output_type": "execute_result"
    }
   ],
   "source": [
    "## Logistic Regression\n",
    "from sklearn.linear_model import LogisticRegression\n",
    "lr=LogisticRegression()\n",
    "max_aucroc_score(lr,x,y)"
   ]
  },
  {
   "cell_type": "code",
   "execution_count": 32,
   "metadata": {},
   "outputs": [
    {
     "name": "stdout",
     "output_type": "stream",
     "text": [
      "Mean Cross Validation score for Logistic Regression 0.8566022597129663\n",
      "Standard Deviation of cross Validation score 0.03012202593270231\n"
     ]
    }
   ],
   "source": [
    "print('Mean Cross Validation score for Logistic Regression',cross_val_score(lr,x,y,scoring='roc_auc').mean())\n",
    "print('Standard Deviation of cross Validation score',cross_val_score(lr,x,y,scoring='roc_auc').std())"
   ]
  },
  {
   "cell_type": "code",
   "execution_count": 33,
   "metadata": {},
   "outputs": [
    {
     "name": "stdout",
     "output_type": "stream",
     "text": [
      "max Roc_auc score corresponding to 60 is 0.857599925809144\n"
     ]
    },
    {
     "data": {
      "text/plain": [
       "60"
      ]
     },
     "execution_count": 33,
     "metadata": {},
     "output_type": "execute_result"
    }
   ],
   "source": [
    "## Decision Tree\n",
    "from sklearn.tree import DecisionTreeClassifier\n",
    "dt=DecisionTreeClassifier()\n",
    "max_aucroc_score(dt,x,y)"
   ]
  },
  {
   "cell_type": "code",
   "execution_count": 34,
   "metadata": {},
   "outputs": [
    {
     "name": "stdout",
     "output_type": "stream",
     "text": [
      "Mean Cross Validation score for Decision Tree Classifier 0.674021905585124\n",
      "Standard Deviation of cross Validation score 0.04692492978762178\n"
     ]
    }
   ],
   "source": [
    "print('Mean Cross Validation score for Decision Tree Classifier',cross_val_score(dt,x,y,scoring='roc_auc').mean())\n",
    "print('Standard Deviation of cross Validation score',cross_val_score(dt,x,y,scoring='roc_auc').std())"
   ]
  },
  {
   "cell_type": "code",
   "execution_count": 35,
   "metadata": {},
   "outputs": [
    {
     "name": "stdout",
     "output_type": "stream",
     "text": [
      "max Roc_auc score corresponding to 78 is 0.8447556338681256\n"
     ]
    },
    {
     "data": {
      "text/plain": [
       "78"
      ]
     },
     "execution_count": 35,
     "metadata": {},
     "output_type": "execute_result"
    }
   ],
   "source": [
    "## KNN\n",
    "from sklearn.neighbors import KNeighborsClassifier\n",
    "knn=KNeighborsClassifier()\n",
    "max_aucroc_score(knn,x,y)"
   ]
  },
  {
   "cell_type": "code",
   "execution_count": 36,
   "metadata": {},
   "outputs": [
    {
     "name": "stdout",
     "output_type": "stream",
     "text": [
      "Mean Cross Validation score for KNN Classifier 0.7498185841756582\n",
      "Standard Deviation of cross Validation score 0.04474995132689194\n"
     ]
    }
   ],
   "source": [
    "print('Mean Cross Validation score for KNN Classifier',cross_val_score(knn,x,y,scoring='roc_auc').mean())\n",
    "print('Standard Deviation of cross Validation score',cross_val_score(knn,x,y,scoring='roc_auc').std())"
   ]
  },
  {
   "cell_type": "code",
   "execution_count": 37,
   "metadata": {},
   "outputs": [
    {
     "name": "stdout",
     "output_type": "stream",
     "text": [
      "max Roc_auc score corresponding to 72 is 0.8070574051748123\n"
     ]
    },
    {
     "data": {
      "text/plain": [
       "72"
      ]
     },
     "execution_count": 37,
     "metadata": {},
     "output_type": "execute_result"
    }
   ],
   "source": [
    "### Support Vector Machine\n",
    "from sklearn.svm import SVC\n",
    "svc=SVC()\n",
    "max_aucroc_score(svc,x,y)"
   ]
  },
  {
   "cell_type": "code",
   "execution_count": 38,
   "metadata": {},
   "outputs": [
    {
     "name": "stdout",
     "output_type": "stream",
     "text": [
      "Mean Cross Validation score for Support Vector  0.8522121520023929\n",
      "Standard Deviation of cross Validation score 0.023080137585754557\n"
     ]
    }
   ],
   "source": [
    "print('Mean Cross Validation score for Support Vector ',cross_val_score(svc,x,y,scoring='roc_auc').mean())\n",
    "print('Standard Deviation of cross Validation score',cross_val_score(svc,x,y,scoring='roc_auc').std())"
   ]
  },
  {
   "cell_type": "code",
   "execution_count": 39,
   "metadata": {},
   "outputs": [
    {
     "name": "stdout",
     "output_type": "stream",
     "text": [
      "max Roc_auc score corresponding to 60 is 0.8804136140220716\n"
     ]
    },
    {
     "data": {
      "text/plain": [
       "60"
      ]
     },
     "execution_count": 39,
     "metadata": {},
     "output_type": "execute_result"
    }
   ],
   "source": [
    "### Random Forest\n",
    "from sklearn.ensemble import RandomForestClassifier\n",
    "rdf=RandomForestClassifier()\n",
    "max_aucroc_score(rdf,x,y)"
   ]
  },
  {
   "cell_type": "code",
   "execution_count": 40,
   "metadata": {},
   "outputs": [
    {
     "name": "stdout",
     "output_type": "stream",
     "text": [
      "Mean Cross Validation score for Random Forest  0.8606027272151431\n",
      "Standard Deviation of cross Validation score 0.02310890687348245\n"
     ]
    }
   ],
   "source": [
    "print('Mean Cross Validation score for Random Forest ',cross_val_score(rdf,x,y,scoring='roc_auc').mean())\n",
    "print('Standard Deviation of cross Validation score',cross_val_score(rdf,x,y,scoring='roc_auc').std())"
   ]
  },
  {
   "cell_type": "code",
   "execution_count": 41,
   "metadata": {},
   "outputs": [
    {
     "name": "stdout",
     "output_type": "stream",
     "text": [
      "max Roc_auc score corresponding to 73 is 0.8652044885467867\n"
     ]
    },
    {
     "data": {
      "text/plain": [
       "73"
      ]
     },
     "execution_count": 41,
     "metadata": {},
     "output_type": "execute_result"
    }
   ],
   "source": [
    "## Gradient Boost\n",
    "from sklearn.ensemble import GradientBoostingClassifier\n",
    "gb=GradientBoostingClassifier()\n",
    "max_aucroc_score(gb,x,y)"
   ]
  },
  {
   "cell_type": "code",
   "execution_count": 42,
   "metadata": {},
   "outputs": [
    {
     "name": "stdout",
     "output_type": "stream",
     "text": [
      "Mean Cross Validation score for Gradient Boost  0.8683339045638198\n",
      "Standard Deviation of cross Validation score 0.038859323006796766\n"
     ]
    }
   ],
   "source": [
    "print('Mean Cross Validation score for Gradient Boost ',cross_val_score(gb,x,y,scoring='roc_auc').mean())\n",
    "print('Standard Deviation of cross Validation score',cross_val_score(gb,x,y,scoring='roc_auc').std())"
   ]
  },
  {
   "cell_type": "code",
   "execution_count": 43,
   "metadata": {},
   "outputs": [
    {
     "name": "stdout",
     "output_type": "stream",
     "text": [
      "max Roc_auc score corresponding to 82 is 0.8614022071779652\n"
     ]
    },
    {
     "data": {
      "text/plain": [
       "82"
      ]
     },
     "execution_count": 43,
     "metadata": {},
     "output_type": "execute_result"
    }
   ],
   "source": [
    "## Adaboost\n",
    "from sklearn.ensemble import AdaBoostClassifier\n",
    "adb=AdaBoostClassifier(base_estimator=DecisionTreeClassifier())\n",
    "max_aucroc_score(adb,x,y)"
   ]
  },
  {
   "cell_type": "code",
   "execution_count": 44,
   "metadata": {},
   "outputs": [
    {
     "name": "stdout",
     "output_type": "stream",
     "text": [
      "Mean Cross Validation score for AdaBoost  0.6629532032950476\n",
      "Standard Deviation of cross Validation score 0.05604301330920448\n"
     ]
    }
   ],
   "source": [
    "print('Mean Cross Validation score for AdaBoost ',cross_val_score(adb,x,y,scoring='roc_auc').mean())\n",
    "print('Standard Deviation of cross Validation score',cross_val_score(adb,x,y,scoring='roc_auc').std())"
   ]
  },
  {
   "cell_type": "markdown",
   "metadata": {},
   "source": [
    "# Hence, Gradient Boost classifier is our best model."
   ]
  },
  {
   "cell_type": "markdown",
   "metadata": {},
   "source": [
    "# Hyperparameter Tuning"
   ]
  },
  {
   "cell_type": "code",
   "execution_count": 45,
   "metadata": {},
   "outputs": [],
   "source": [
    "from sklearn.model_selection import GridSearchCV\n",
    "x_train,x_test,y_train,y_test=train_test_split(x,y,random_state=72,test_size=.20,stratify=y)\n",
    "x_train,y_train=SMOTE().fit_resample(x_train,y_train)"
   ]
  },
  {
   "cell_type": "code",
   "execution_count": 46,
   "metadata": {},
   "outputs": [
    {
     "data": {
      "text/plain": [
       "GridSearchCV(cv=5, estimator=GradientBoostingClassifier(),\n",
       "             param_grid={'learning_rate': [0.001, 0.01, 0.1, 1, 10],\n",
       "                         'min_samples_split': array([2, 3, 4, 5, 6, 7, 8, 9]),\n",
       "                         'n_estimators': [50, 100, 200, 500]},\n",
       "             scoring='roc_auc')"
      ]
     },
     "execution_count": 46,
     "metadata": {},
     "output_type": "execute_result"
    }
   ],
   "source": [
    "param={'n_estimators':[50,100,200,500],'learning_rate':[.001,.01,.1,1,10],'min_samples_split':np.arange(2,10)}\n",
    "clf=GridSearchCV(gb,param,scoring='roc_auc',cv=5)\n",
    "clf.fit(x_train,y_train)"
   ]
  },
  {
   "cell_type": "code",
   "execution_count": 47,
   "metadata": {},
   "outputs": [
    {
     "data": {
      "text/plain": [
       "{'learning_rate': 1, 'min_samples_split': 6, 'n_estimators': 500}"
      ]
     },
     "execution_count": 47,
     "metadata": {},
     "output_type": "execute_result"
    }
   ],
   "source": [
    "clf.best_params_"
   ]
  },
  {
   "cell_type": "code",
   "execution_count": 55,
   "metadata": {},
   "outputs": [
    {
     "name": "stdout",
     "output_type": "stream",
     "text": [
      "New Accuracy 0.9144736842105263\n",
      "New roc_auc score 0.8270425670036168\n"
     ]
    }
   ],
   "source": [
    "boost=GradientBoostingClassifier(learning_rate= 1,min_samples_split= 6,n_estimators= 500)\n",
    "boost.fit(x_train,y_train)\n",
    "pred1=boost.predict(x_test)\n",
    "print('New Accuracy',accuracy_score(y_test,pred1))\n",
    "print('New roc_auc score',roc_auc_score(y_test,pred1))"
   ]
  },
  {
   "cell_type": "code",
   "execution_count": 57,
   "metadata": {},
   "outputs": [
    {
     "name": "stdout",
     "output_type": "stream",
     "text": [
      "Accucacy score 0.9144736842105263\n",
      "roc_auc_socre 0.8270425670036168\n",
      "Confusion matrix [[249  14]\n",
      " [ 12  29]]\n",
      "Classification report               precision    recall  f1-score   support\n",
      "\n",
      "           0       0.95      0.95      0.95       263\n",
      "           1       0.67      0.71      0.69        41\n",
      "\n",
      "    accuracy                           0.91       304\n",
      "   macro avg       0.81      0.83      0.82       304\n",
      "weighted avg       0.92      0.91      0.92       304\n",
      "\n"
     ]
    }
   ],
   "source": [
    "print('Accucacy score',accuracy_score(y_test,pred1))\n",
    "print('roc_auc_socre',roc_auc_score(y_test,pred1))\n",
    "print('Confusion matrix',confusion_matrix(y_test,pred1))\n",
    "print('Classification report',classification_report(y_test,pred1))"
   ]
  },
  {
   "cell_type": "markdown",
   "metadata": {},
   "source": [
    "# Save the Model"
   ]
  },
  {
   "cell_type": "code",
   "execution_count": 58,
   "metadata": {},
   "outputs": [
    {
     "data": {
      "text/plain": [
       "['P3winequalityboost.pkl']"
      ]
     },
     "execution_count": 58,
     "metadata": {},
     "output_type": "execute_result"
    }
   ],
   "source": [
    "import joblib\n",
    "joblib.dump(boost,'P3winequalityboost.pkl')\n"
   ]
  },
  {
   "cell_type": "markdown",
   "metadata": {},
   "source": [
    "# Loading the model"
   ]
  },
  {
   "cell_type": "code",
   "execution_count": 59,
   "metadata": {},
   "outputs": [],
   "source": [
    "model=joblib.load('P3winequalityboost.pkl')\n",
    "prediction=model.predict(x_test)\n"
   ]
  },
  {
   "cell_type": "code",
   "execution_count": 60,
   "metadata": {},
   "outputs": [
    {
     "name": "stdout",
     "output_type": "stream",
     "text": [
      "0.9144736842105263\n",
      "0.8270425670036168\n"
     ]
    }
   ],
   "source": [
    "print(accuracy_score(y_test,prediction))\n",
    "print(roc_auc_score(y_test,prediction))"
   ]
  },
  {
   "cell_type": "code",
   "execution_count": 61,
   "metadata": {},
   "outputs": [],
   "source": [
    "## Creating the dataframe\n",
    "prediction=pd.DataFrame(prediction)"
   ]
  },
  {
   "cell_type": "code",
   "execution_count": 62,
   "metadata": {},
   "outputs": [],
   "source": [
    "##saving the  prediction\n",
    "prediction.to_csv('WinequalityResult.csv')"
   ]
  },
  {
   "cell_type": "code",
   "execution_count": null,
   "metadata": {},
   "outputs": [],
   "source": []
  }
 ],
 "metadata": {
  "kernelspec": {
   "display_name": "Python 3",
   "language": "python",
   "name": "python3"
  },
  "language_info": {
   "codemirror_mode": {
    "name": "ipython",
    "version": 3
   },
   "file_extension": ".py",
   "mimetype": "text/x-python",
   "name": "python",
   "nbconvert_exporter": "python",
   "pygments_lexer": "ipython3",
   "version": "3.8.5"
  }
 },
 "nbformat": 4,
 "nbformat_minor": 4
}
